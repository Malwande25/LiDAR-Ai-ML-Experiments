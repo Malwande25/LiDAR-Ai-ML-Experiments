{
 "cells": [
  {
   "cell_type": "code",
   "execution_count": null,
   "id": "4e53e856",
   "metadata": {
    "vscode": {
     "languageId": "plaintext"
    }
   },
   "outputs": [],
   "source": [
    "import pandas as pd\n",
    "import matplotlib.pyplot as plt\n",
    "\n",
    "# Load the logged CSV file\n",
    "df = pd.read_csv(\"lidar_log.csv\")\n",
    "\n",
    "# Quick check\n",
    "print(df.head())\n",
    "\n",
    "# Example plot\n",
    "plt.figure(figsize=(10,5))\n",
    "plt.scatter(df[\"yaw_deg\"], df[\"distance_m\"], s=10)\n",
    "plt.xlabel(\"Yaw (degrees)\")\n",
    "plt.ylabel(\"Distance (m)\")\n",
    "plt.title(\"LiDAR Scan\")\n",
    "plt.show()\n"
   ]
  }
 ],
 "metadata": {
  "language_info": {
   "name": "python"
  }
 },
 "nbformat": 4,
 "nbformat_minor": 5
}
